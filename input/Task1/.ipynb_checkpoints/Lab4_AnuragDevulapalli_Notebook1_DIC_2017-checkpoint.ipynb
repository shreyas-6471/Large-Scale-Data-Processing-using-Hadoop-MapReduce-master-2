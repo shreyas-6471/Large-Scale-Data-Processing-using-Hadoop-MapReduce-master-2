{
 "cells": [
  {
   "cell_type": "markdown",
   "metadata": {},
   "source": [
    "Importing twitteR library"
   ]
  },
  {
   "cell_type": "code",
   "execution_count": 3,
   "metadata": {},
   "outputs": [
    {
     "name": "stderr",
     "output_type": "stream",
     "text": [
      "Updating HTML index of packages in '.Library'\n",
      "Making 'packages.html' ... done\n"
     ]
    }
   ],
   "source": [
    "install.packages(\"twitteR\")"
   ]
  },
  {
   "cell_type": "code",
   "execution_count": 6,
   "metadata": {},
   "outputs": [],
   "source": [
    "library(twitteR)"
   ]
  },
  {
   "cell_type": "markdown",
   "metadata": {},
   "source": [
    "Authentication with OAuth"
   ]
  },
  {
   "cell_type": "code",
   "execution_count": 7,
   "metadata": {},
   "outputs": [
    {
     "name": "stdout",
     "output_type": "stream",
     "text": [
      "[1] \"Using direct authentication\"\n"
     ]
    }
   ],
   "source": [
    "setup_twitter_oauth(\"AWAR5S7kRanMHbROwwzLeNJMf\",\"et6HPq3souqlCsWWbVfCfIkL7HqCkL92LvW4Ebi7YrDL9FA3VU\",\"235789367-o3eJDDOjtQvX3Dgo0NiNjnEfl3eaLakX2APs9DZk\",\"RqHlfGaZR7X4afvKWxEJAvao3JMw64kuObVGXh1hI5jp9\")"
   ]
  },
  {
   "cell_type": "markdown",
   "metadata": {},
   "source": [
    " Searching Twitter for #Chess tweets"
   ]
  },
  {
   "cell_type": "code",
   "execution_count": 17,
   "metadata": {},
   "outputs": [],
   "source": [
    "sampleTweets <- searchTwitter('#Chess', n=1000)"
   ]
  },
  {
   "cell_type": "code",
   "execution_count": 18,
   "metadata": {},
   "outputs": [],
   "source": [
    "sampleTweets <- twListToDF(sampleTweets)"
   ]
  },
  {
   "cell_type": "code",
   "execution_count": 21,
   "metadata": {},
   "outputs": [],
   "source": [
    "sampleTweets <- sampleTweets$text"
   ]
  },
  {
   "cell_type": "code",
   "execution_count": 22,
   "metadata": {},
   "outputs": [
    {
     "data": {
      "text/html": [
       "<ol class=list-inline>\n",
       "\t<li>'Batman &amp;amp; Joker Satranç Takımı :) Son adetler , kaçırmayın. #jedbang #batman #joker #dccomics #chess #chessset... https://t.co/0lSHMm6MML'</li>\n",
       "\t<li>'RT @chesstwtr: The Göttingen manuscript is the earliest known work devoted entirely to modern #chess.  https://t.co/sGEJBZLjZs'</li>\n",
       "\t<li>'Football Backpack/tote #clearance #sportbags #chess #greatbag #airplanes https://t.co/CGE4tv2zl3 https://t.co/lZDsnoAZWh'</li>\n",
       "\t<li>'Hou Yifan after her draw against Matthias Blübaum. #grenkechess  #chess https://t.co/dnDnym64dJ'</li>\n",
       "\t<li>'White to play and win: Sukandar, Irine Kharisma vs Boros, Denes. St Louis Inv GM 2016 2016.06.09  #chess… https://t.co/h9NSgL9nQu'</li>\n",
       "\t<li>'#chess Nezhmetdinov chess biography (1/3) - https://t.co/lOr0yjWx6O #RT #Retweet https://t.co/sPDvjtj2Qz'</li>\n",
       "</ol>\n"
      ],
      "text/latex": [
       "\\begin{enumerate*}\n",
       "\\item 'Batman \\&amp; Joker Satranç Takımı :) Son adetler , kaçırmayın. \\#jedbang \\#batman \\#joker \\#dccomics \\#chess \\#chessset... https://t.co/0lSHMm6MML'\n",
       "\\item 'RT @chesstwtr: The Göttingen manuscript is the earliest known work devoted entirely to modern \\#chess.  https://t.co/sGEJBZLjZs'\n",
       "\\item 'Football Backpack/tote \\#clearance \\#sportbags \\#chess \\#greatbag \\#airplanes https://t.co/CGE4tv2zl3 https://t.co/lZDsnoAZWh'\n",
       "\\item 'Hou Yifan after her draw against Matthias Blübaum. \\#grenkechess  \\#chess https://t.co/dnDnym64dJ'\n",
       "\\item 'White to play and win: Sukandar, Irine Kharisma vs Boros, Denes. St Louis Inv GM 2016 2016.06.09  \\#chess… https://t.co/h9NSgL9nQu'\n",
       "\\item '\\#chess Nezhmetdinov chess biography (1/3) - https://t.co/lOr0yjWx6O \\#RT \\#Retweet https://t.co/sPDvjtj2Qz'\n",
       "\\end{enumerate*}\n"
      ],
      "text/markdown": [
       "1. 'Batman &amp;amp; Joker Satranç Takımı :) Son adetler , kaçırmayın. #jedbang #batman #joker #dccomics #chess #chessset... https://t.co/0lSHMm6MML'\n",
       "2. 'RT @chesstwtr: The Göttingen manuscript is the earliest known work devoted entirely to modern #chess.  https://t.co/sGEJBZLjZs'\n",
       "3. 'Football Backpack/tote #clearance #sportbags #chess #greatbag #airplanes https://t.co/CGE4tv2zl3 https://t.co/lZDsnoAZWh'\n",
       "4. 'Hou Yifan after her draw against Matthias Blübaum. #grenkechess  #chess https://t.co/dnDnym64dJ'\n",
       "5. 'White to play and win: Sukandar, Irine Kharisma vs Boros, Denes. St Louis Inv GM 2016 2016.06.09  #chess… https://t.co/h9NSgL9nQu'\n",
       "6. '#chess Nezhmetdinov chess biography (1/3) - https://t.co/lOr0yjWx6O #RT #Retweet https://t.co/sPDvjtj2Qz'\n",
       "\n",
       "\n"
      ],
      "text/plain": [
       "[1] \"Batman &amp; Joker Satranç Takımı :) Son adetler , kaçırmayın. #jedbang #batman #joker #dccomics #chess #chessset... https://t.co/0lSHMm6MML\"\n",
       "[2] \"RT @chesstwtr: The Göttingen manuscript is the earliest known work devoted entirely to modern #chess.  https://t.co/sGEJBZLjZs\"              \n",
       "[3] \"Football Backpack/tote #clearance #sportbags #chess #greatbag #airplanes https://t.co/CGE4tv2zl3 https://t.co/lZDsnoAZWh\"                    \n",
       "[4] \"Hou Yifan after her draw against Matthias Blübaum. #grenkechess  #chess https://t.co/dnDnym64dJ\"                                             \n",
       "[5] \"White to play and win: Sukandar, Irine Kharisma vs Boros, Denes. St Louis Inv GM 2016 2016.06.09  #chess… https://t.co/h9NSgL9nQu\"           \n",
       "[6] \"#chess Nezhmetdinov chess biography (1/3) - https://t.co/lOr0yjWx6O #RT #Retweet https://t.co/sPDvjtj2Qz\"                                    "
      ]
     },
     "metadata": {},
     "output_type": "display_data"
    }
   ],
   "source": [
    "head(sampleTweets)"
   ]
  },
  {
   "cell_type": "code",
   "execution_count": 25,
   "metadata": {},
   "outputs": [],
   "source": [
    "write.table(sampleTweets,\"inputTweets.txt\",sep=\"\\t\",row.names=FALSE)"
   ]
  }
 ],
 "metadata": {
  "anaconda-cloud": {},
  "kernelspec": {
   "display_name": "Python 3",
   "language": "python",
   "name": "python3"
  },
  "language_info": {
   "codemirror_mode": {
    "name": "ipython",
    "version": 3
   },
   "file_extension": ".py",
   "mimetype": "text/x-python",
   "name": "python",
   "nbconvert_exporter": "python",
   "pygments_lexer": "ipython3",
   "version": "3.6.3"
  }
 },
 "nbformat": 4,
 "nbformat_minor": 1
}
